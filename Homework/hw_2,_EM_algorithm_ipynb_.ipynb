{
  "nbformat": 4,
  "nbformat_minor": 0,
  "metadata": {
    "colab": {
      "provenance": []
    },
    "kernelspec": {
      "name": "python3",
      "display_name": "Python 3"
    },
    "language_info": {
      "name": "python"
    }
  },
  "cells": [
    {
      "cell_type": "markdown",
      "source": [
        "Для начала устанавливаем необходимые программы."
      ],
      "metadata": {
        "id": "lkk3xSyFsk17"
      }
    },
    {
      "cell_type": "markdown",
      "source": [
        "Устанавливаю SRA-toolkit"
      ],
      "metadata": {
        "id": "ICZppAqXszhT"
      }
    },
    {
      "cell_type": "code",
      "source": [
        "\n",
        "import seaborn as sns\n",
        "import matplotlib.pyplot as plt\n",
        "import pandas as pd"
      ],
      "metadata": {
        "id": "eB2xKTG_3dMv"
      },
      "execution_count": null,
      "outputs": []
    },
    {
      "cell_type": "code",
      "execution_count": null,
      "metadata": {
        "id": "tZZtYOOZscey"
      },
      "outputs": [],
      "source": [
        "\n",
        "# Generation of sequence\n",
        "N_blocks = 10\n",
        "l_block = 5000\n",
        "transcripts = {\n",
        "    \"A\" : [0, 1, 2],\n",
        "    \"B\" : [1, 2, 3],\n",
        "    \"C\" : [1, 4, 5],\n",
        "    \"D\" : [5],\n",
        "    \"E\" : [5, 6],\n",
        "    \"F\" : [8, 9]\n",
        "}\n",
        "\n",
        "def generate_random_sequence(l):\n",
        "  from random import choice\n",
        "  return \"\".join([choice([\"A\", \"T\", \"G\", \"C\"]) for i in range(l)])\n",
        "\n",
        "genome_blocks = dict(zip(range(10), [generate_random_sequence(l_block) for i in range(10)]))\n",
        "\n",
        "# Generation of reference transcriptome\n",
        "transcript_sequences = {}\n",
        "with open(\"transcriptome.fasta\", \"w\") as f:\n",
        "  for transcript in transcripts:\n",
        "    transcript_sequences[transcript] = \"\".join([genome_blocks[i] for i in transcripts[transcript]])\n",
        "    f.write(f\">{transcript}\\n{transcript_sequences[transcript]}\\n\")"
      ]
    },
    {
      "cell_type": "markdown",
      "source": [
        "Устанавливаю FastQC"
      ],
      "metadata": {
        "id": "n8b_5pzJtIOm"
      }
    },
    {
      "cell_type": "code",
      "source": [
        "wget https://www.bioinformatics.babraham.ac.uk/projects/fastqc/fastqc_v0.11.9.zip\n",
        "!unzip fastqc_v0.11.9.zip"
      ],
      "metadata": {
        "id": "Ugw0lg2NtK1a"
      },
      "execution_count": null,
      "outputs": []
    },
    {
      "cell_type": "markdown",
      "source": [
        "Устанавливаю MultiQC"
      ],
      "metadata": {
        "id": "azgV6IzutQ7g"
      }
    },
    {
      "cell_type": "code",
      "source": [
        "!pip3 install multiqc\n",
        "!multiqc qc"
      ],
      "metadata": {
        "id": "YrvQpG--tW1Q"
      },
      "execution_count": null,
      "outputs": []
    },
    {
      "cell_type": "markdown",
      "source": [
        "Устанавливаю NextFlow"
      ],
      "metadata": {
        "id": "N3y2DRwotfrs"
      }
    },
    {
      "cell_type": "code",
      "source": [
        "!curl -fsSL https://get.nextflow.io | bash"
      ],
      "metadata": {
        "id": "YXgKz0QJtiYG"
      },
      "execution_count": null,
      "outputs": []
    },
    {
      "cell_type": "markdown",
      "source": [
        "Загружаю два SRA-файла из статьи [ Evaluation of two main RNA-seq approaches for gene quantification in clinical RNA sequencing: polyA+ selection versus rRNA depletion](https://www.nature.com/articles/s41598-018-23226-4?awc=26427_1665788507_ce1f2668ec3f6aee2316eb0ac0ddbb00&utm_medium=affiliate&utm_source=awin&utm_campaign=CONR_PF018_ECOM_DE_PHSS_ALWYS_DEEPLINK&utm_content=textlink&utm_term=!!!affid) хранятся с id [SRP127360](https://www.ncbi.nlm.nih.gov/sra/?term=SRP127360). Я выбрала для скачивания первый образец из кишечника [SRR6410603](https://www.ncbi.nlm.nih.gov/sra/SRX3503737%5Baccn%5D) и первый образец из крови [SRR6410611](https://www.ncbi.nlm.nih.gov/sra/SRX3503729%5Baccn%5D)."
      ],
      "metadata": {
        "id": "tcIRD1M3udGP"
      }
    },
    {
      "cell_type": "code",
      "source": [
        "!./nextflow run download_sra.nf -with-report nextflow_report.html -with-dag flowchart.pdf --SRA SRR6410611,SRR6410603\n"
      ],
      "metadata": {
        "colab": {
          "base_uri": "https://localhost:8080/"
        },
        "id": "u6Qbnlx9uunA",
        "outputId": "80f4fde7-c147-4a81-e74b-0cd3d98e491c"
      },
      "execution_count": null,
      "outputs": [
        {
          "output_type": "stream",
          "name": "stdout",
          "text": [
            "N E X T F L O W  ~  version 22.10.0\n",
            "Launching `download_sra.nf` [dreamy_lovelace] DSL2 - revision: 3c0f26639b\n",
            "\n",
            "  Q U A L I T Y   C O N T R O L  \n",
            "=================================\n",
            "SRA number         : [SRR6410611, SRR6410603]\n",
            "Results location   : results/\n",
            "[-        ] process > DownloadFastQ -\u001b[K\n",
            "[-        ] process > QC            -\u001b[K\n",
            "[-        ] process > MultiQC       -\u001b[K\n",
            "\u001b[4A\n",
            "[-        ] process > DownloadFastQ [  0%] 0 of 2\u001b[K\n",
            "[-        ] process > QC            -\u001b[K\n",
            "[-        ] process > MultiQC       -\u001b[K\n",
            "\u001b[4A\n",
            "executor >  local (2)\u001b[K\n",
            "[14/3a6d52] process > DownloadFastQ (1) [  0%] 0 of 2\u001b[K\n",
            "[-        ] process > QC                -\u001b[K\n",
            "[-        ] process > MultiQC           -\u001b[K\n",
            "\u001b[5A\n",
            "executor >  local (2)\u001b[K\n",
            "[1d/8814c8] process > DownloadFastQ (2) [ 50%] 1 of 2\u001b[K\n",
            "[7d/3a9bb1] process > QC (1)            [  0%] 0 of 1\u001b[K\n",
            "[-        ] process > MultiQC           -\u001b[K\n",
            "\u001b[5A\n",
            "executor >  local (3)\u001b[K\n",
            "[1d/8814c8] process > DownloadFastQ (2) [ 50%] 1 of 2\u001b[K\n",
            "[7d/3a9bb1] process > QC (1)            [  0%] 0 of 1\u001b[K\n",
            "[-        ] process > MultiQC           -\u001b[K\n",
            "\u001b[5A\n",
            "executor >  local (3)\u001b[K\n",
            "[1d/8814c8] process > DownloadFastQ (2) [ 50%] 1 of 2\u001b[K\n",
            "[7d/3a9bb1] process > QC (1)            [  0%] 0 of 1\u001b[K\n",
            "[-        ] process > MultiQC           -\u001b[K\n",
            "\u001b[31mError executing process > 'QC (1)'\u001b[K\n",
            "\u001b[K\n",
            "Caused by:\u001b[K\n",
            "  Process `QC (1)` terminated with an error exit status (126)\u001b[K\n",
            "\u001b[K\n",
            "Command executed:\u001b[K\n",
            "\u001b[K\n",
            "  mkdir qc\u001b[K\n",
            "  /content/FastQC/fastqc -o qc SRR6410603_1.fastq SRR6410603_2.fastq\u001b[K\n",
            "\u001b[K\n",
            "Command exit status:\u001b[K\n",
            "  126\u001b[K\n",
            "\u001b[K\n",
            "Command output:\u001b[K\n",
            "  (empty)\u001b[K\n",
            "\u001b[K\n",
            "Command error:\u001b[K\n",
            "  .command.sh: line 3: /content/FastQC/fastqc: Permission denied\u001b[K\n",
            "\u001b[K\n",
            "Work dir:\u001b[K\n",
            "  /content/work/7d/3a9bb1390cb220d94c64af9ed6f3b6\u001b[K\n",
            "\u001b[K\n",
            "Tip: you can replicate the issue by changing to the process work dir and entering the command `bash .command.run`\u001b[K\n",
            "\u001b[K\n",
            "\u001b[39m\u001b[K\n",
            "\u001b[30A\n",
            "executor >  local (3)\u001b[K\n",
            "[1d/8814c8] process > DownloadFastQ (2) [ 50%] 1 of 2\u001b[K\n",
            "[7d/3a9bb1] process > QC (1)            [100%] 1 of 1, failed: 1\u001b[K\n",
            "[-        ] process > MultiQC           -\u001b[K\n",
            "\u001b[31mError executing process > 'QC (1)'\u001b[K\n",
            "\u001b[K\n",
            "Caused by:\u001b[K\n",
            "  Process `QC (1)` terminated with an error exit status (126)\u001b[K\n",
            "\u001b[K\n",
            "Command executed:\u001b[K\n",
            "\u001b[K\n",
            "  mkdir qc\u001b[K\n",
            "  /content/FastQC/fastqc -o qc SRR6410603_1.fastq SRR6410603_2.fastq\u001b[K\n",
            "\u001b[K\n",
            "Command exit status:\u001b[K\n",
            "  126\u001b[K\n",
            "\u001b[K\n",
            "Command output:\u001b[K\n",
            "  (empty)\u001b[K\n",
            "\u001b[K\n",
            "Command error:\u001b[K\n",
            "  .command.sh: line 3: /content/FastQC/fastqc: Permission denied\u001b[K\n",
            "\u001b[K\n",
            "Work dir:\u001b[K\n",
            "  /content/work/7d/3a9bb1390cb220d94c64af9ed6f3b6\u001b[K\n",
            "\u001b[K\n",
            "Tip: you can replicate the issue by changing to the process work dir and entering the command `bash .command.run`\u001b[K\n",
            "\u001b[K\n",
            "\u001b[39m\u001b[K\n",
            "WARN: Killing running tasks (1)\n",
            "\n"
          ]
        }
      ]
    }
  ]
}